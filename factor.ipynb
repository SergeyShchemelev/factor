{
 "cells": [
  {
   "cell_type": "code",
   "execution_count": 1,
   "metadata": {},
   "outputs": [
    {
     "name": "stdout",
     "output_type": "stream",
     "text": [
      "142\n",
      "Eratosthenes time: 0.0003965184347729739\n",
      "Factorisation time: 0.0017579154928421498\n",
      "{2: 1, 71: 1}\n"
     ]
    }
   ],
   "source": [
    "from time import clock\n",
    "\n",
    "def Eratosthenes_sieve(n): #решето Эратосфена (все простые числа до n)\n",
    "    temp = [k for k in range(2,n+1)]\n",
    "    #for i in range(2,n):\n",
    "        #if i in temp:\n",
    "            #temp=list(filter(lambda x: (x%i!=0 or x==i),temp))\n",
    "            #temp=list(set(temp)-set([k for k in range(i+1,n+1) if k%i==0 and k in temp]))\n",
    "    i = 2;\n",
    "    while i < len(temp):\n",
    "        if i in temp:\n",
    "            temp[temp.index(i):] = list(filter(lambda x: (x%i != 0 or x == i),temp[temp.index(i):]))\n",
    "        i+=1    \n",
    "    return temp\n",
    "\n",
    "def factorisation(n): #возвращает словарь вида {множитель:степень}\n",
    "    t = clock()\n",
    "    simple_numbers = Eratosthenes_sieve(n)    \n",
    "    print(\"Eratosthenes time: \"+str(clock() - t))\n",
    "    n_del = [i for i in simple_numbers if n%i==0]\n",
    "    factor = dict.fromkeys(n_del,0)\n",
    "    for num in n_del:\n",
    "        while n%num == 0:\n",
    "            n = n/num\n",
    "            factor[num] += 1\n",
    "    return factor\n",
    "    \n",
    "#def string_result(factor):\n",
    "#    result=\"\"\n",
    "#    for key in factor:\n",
    "#        result+=\"(\"+(str(key)+\"*\")*factor[key]\n",
    "#        result=result[:len(result)-1]+\")\"\n",
    "#        result+=\"*\"\n",
    "#    return result[:len(result)-1]\n",
    "        \n",
    "\n",
    "n = input()\n",
    "cur_time = clock()\n",
    "factor = factorisation(int(n))\n",
    "print(\"Factorisation time: \" + str(clock() - cur_time))\n",
    "print(factor)\n",
    "\n",
    "#print(f\"{t:.{5}f}\")\n",
    "#string_result(factor)\n",
    "\n",
    "\n",
    "    \n",
    "\n"
   ]
  },
  {
   "cell_type": "code",
   "execution_count": 9,
   "metadata": {},
   "outputs": [
    {
     "name": "stderr",
     "output_type": "stream",
     "text": [
      ".."
     ]
    },
    {
     "name": "stdout",
     "output_type": "stream",
     "text": [
      "Eratosthenes time: 6.412005723177572e-05\n",
      "Eratosthenes time: 0.00026673943875721307\n",
      "Eratosthenes time: 0.002210859578099189\n"
     ]
    },
    {
     "name": "stderr",
     "output_type": "stream",
     "text": [
      "\n",
      "----------------------------------------------------------------------\n",
      "Ran 2 tests in 0.009s\n",
      "\n",
      "OK\n"
     ]
    }
   ],
   "source": [
    "import unittest\n",
    "import sys\n",
    "\n",
    "class TestFactor(unittest.TestCase):\n",
    "\n",
    "    def test_Eratosthenes_sieve(self):\n",
    "        self.assertEqual(Eratosthenes_sieve(15),[2,3,5,7,11,13])\n",
    "        self.assertEqual(Eratosthenes_sieve(100),[2,3,5,7,11,13,17,19,23,29,31,37,41,43,47,53,59,61,67,71,73,79,83,89,97])\n",
    "\n",
    "\n",
    "    def test_factorisation(self):\n",
    "        self.assertEqual(factorisation(15),{3:1,5:1})\n",
    "        self.assertEqual(factorisation(100),{2:2,5:2})\n",
    "        self.assertEqual(factorisation(564),{2:2,3:1,47:1})\n",
    "\n",
    "if __name__ == '__main__':\n",
    "    unittest.main(argv = ['first-arg-is-ignored'], exit=False)\n",
    "\n"
   ]
  },
  {
   "cell_type": "code",
   "execution_count": null,
   "metadata": {},
   "outputs": [],
   "source": []
  }
 ],
 "metadata": {
  "kernelspec": {
   "display_name": "Python 3",
   "language": "python",
   "name": "python3"
  },
  "language_info": {
   "codemirror_mode": {
    "name": "ipython",
    "version": 3
   },
   "file_extension": ".py",
   "mimetype": "text/x-python",
   "name": "python",
   "nbconvert_exporter": "python",
   "pygments_lexer": "ipython3",
   "version": "3.6.4"
  }
 },
 "nbformat": 4,
 "nbformat_minor": 2
}
